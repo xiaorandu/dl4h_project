{
 "cells": [
  {
   "cell_type": "markdown",
   "id": "5692e778",
   "metadata": {},
   "source": [
    "# Demo for MoleculeSTM Downstream: Property Prediction\n",
    "\n",
    "## Load Packages"
   ]
  },
  {
   "cell_type": "code",
   "execution_count": null,
   "id": "242533c7",
   "metadata": {},
   "outputs": [],
   "source": []
  },
  {
   "cell_type": "markdown",
   "id": "b59a8c8e",
   "metadata": {},
   "source": []
  },
  {
   "cell_type": "code",
   "execution_count": null,
   "id": "7d13d71d",
   "metadata": {},
   "outputs": [
    {
     "ename": "",
     "evalue": "",
     "output_type": "error",
     "traceback": [
      "\u001b[1;31mJupyter cannot be started. Error attempting to locate Jupyter: 'Kernelspec' module not installed in the selected interpreter (/Users/marchon/opt/anaconda3/envs/MoleculeSTM/bin/python).\n",
      "\u001b[1;31m Please re-install or update 'jupyter'.\n",
      "\u001b[1;31mRun the following command to install 'jupyter and notebook' into the Python environment. \n",
      "\u001b[1;31mCommand: 'python -m pip install jupyter notebook -U\n",
      "\u001b[1;31mor\n",
      "\u001b[1;31mconda install jupyter notebook -U'\n",
      "\u001b[1;31mClick <a href='https://aka.ms/installJupyterForVSCode'>here</a> for more info."
     ]
    }
   ],
   "source": [
    "import warnings\n",
    "warnings.filterwarnings('ignore')\n",
    "\n",
    "import os\n",
    "import argparse\n",
    "import numpy as np\n",
    "import pandas as pd\n",
    "from tqdm import tqdm\n",
    "from sklearn.metrics import accuracy_score, average_precision_score, roc_auc_score, mean_absolute_error, mean_squared_error\n",
    "\n",
    "import torch\n",
    "import torch.nn as nn\n",
    "import torch.optim as optim\n",
    "from torch.utils.data import DataLoader as torch_DataLoader\n",
    "from torch_geometric.loader import DataLoader as pyg_DataLoader\n",
    "\n",
    "from MoleculeSTM.datasets import MoleculeNetSMILESDataset, MoleculeNetGraphDataset\n",
    "from MoleculeSTM.splitters import scaffold_split\n",
    "from MoleculeSTM.utils import get_num_task_and_type, get_molecule_repr_MoleculeSTM\n",
    "from MoleculeSTM.models.mega_molbart.mega_mol_bart import MegaMolBART\n",
    "from MoleculeSTM.models import GNN, GNN_graphpred"
   ]
  },
  {
   "cell_type": "markdown",
   "id": "c5ae9b29",
   "metadata": {},
   "source": [
    "## Setup Arguments"
   ]
  },
  {
   "cell_type": "code",
   "execution_count": null,
   "id": "e579793f",
   "metadata": {},
   "outputs": [
    {
     "ename": "",
     "evalue": "",
     "output_type": "error",
     "traceback": [
      "\u001b[1;31mRunning cells with 'MoleculeSTM' requires the ipykernel package.\n",
      "\u001b[1;31mRun the following command to install 'ipykernel' into the Python environment. \n",
      "\u001b[1;31mCommand: 'conda install -n MoleculeSTM ipykernel --update-deps --force-reinstall'"
     ]
    }
   ],
   "source": [
    "parser = argparse.ArgumentParser()\n",
    "parser.add_argument(\"--seed\", type=int, default=42)\n",
    "parser.add_argument(\"--device\", type=int, default=0)\n",
    "parser.add_argument(\"--training_mode\", type=str, default=\"fine_tuning\", choices=[\"fine_tuning\", \"linear_probing\"])\n",
    "parser.add_argument(\"--molecule_type\", type=str, default=\"Graph\", choices=[\"SMILES\", \"Graph\"])\n",
    "\n",
    "########## for dataset and split ##########\n",
    "parser.add_argument(\"--dataspace_path\", type=str, default=\"../data\")\n",
    "parser.add_argument(\"--dataset\", type=str, default=\"bace\")\n",
    "parser.add_argument(\"--split\", type=str, default=\"scaffold\")\n",
    "\n",
    "########## for optimization ##########\n",
    "parser.add_argument(\"--batch_size\", type=int, default=32)\n",
    "parser.add_argument(\"--lr\", type=float, default=1e-4)\n",
    "parser.add_argument(\"--lr_scale\", type=float, default=1)\n",
    "parser.add_argument(\"--num_workers\", type=int, default=1)\n",
    "parser.add_argument(\"--epochs\", type=int, default=5)\n",
    "parser.add_argument(\"--weight_decay\", type=float, default=0)\n",
    "parser.add_argument(\"--schedule\", type=str, default=\"cycle\")\n",
    "parser.add_argument(\"--warm_up_steps\", type=int, default=10)\n",
    "\n",
    "########## for 2D GNN ##########\n",
    "parser.add_argument(\"--gnn_emb_dim\", type=int, default=300)\n",
    "parser.add_argument(\"--num_layer\", type=int, default=5)\n",
    "parser.add_argument('--JK', type=str, default='last')\n",
    "parser.add_argument(\"--dropout_ratio\", type=float, default=0.5)\n",
    "parser.add_argument(\"--gnn_type\", type=str, default=\"gin\")\n",
    "parser.add_argument('--graph_pooling', type=str, default='mean')\n",
    "\n",
    "########## for saver ##########\n",
    "parser.add_argument(\"--eval_train\", type=int, default=0)\n",
    "parser.add_argument(\"--verbose\", type=int, default=1)\n",
    "\n",
    "parser.add_argument(\"--input_model_path\", type=str, default=\"demo_checkpoints_Graph/molecule_model.pth\")\n",
    "parser.add_argument(\"--output_model_dir\", type=str, default=None)\n",
    "\n",
    "args = parser.parse_args(\"\")\n",
    "print(\"arguments\\t\", args)"
   ]
  },
  {
   "cell_type": "markdown",
   "id": "fda8e87f",
   "metadata": {},
   "source": [
    "## Setup Seed"
   ]
  },
  {
   "cell_type": "code",
   "execution_count": null,
   "id": "e440e4b6",
   "metadata": {},
   "outputs": [],
   "source": [
    "torch.manual_seed(args.seed)\n",
    "np.random.seed(args.seed)\n",
    "if torch.cuda.is_available():\n",
    "    torch.cuda.manual_seed_all(args.seed)\n",
    "device = torch.device(\"cuda:\" + str(args.device)) \\\n",
    "    if torch.cuda.is_available() else torch.device(\"cpu\")"
   ]
  },
  {
   "cell_type": "markdown",
   "id": "1bcb6df8",
   "metadata": {},
   "source": [
    "## Setup Dataset and Dataloader"
   ]
  },
  {
   "cell_type": "code",
   "execution_count": null,
   "id": "465ef86d",
   "metadata": {},
   "outputs": [
    {
     "ename": "",
     "evalue": "",
     "output_type": "error",
     "traceback": [
      "\u001b[1;31mRunning cells with 'MoleculeSTM' requires the ipykernel package.\n",
      "\u001b[1;31mRun the following command to install 'ipykernel' into the Python environment. \n",
      "\u001b[1;31mCommand: 'conda install -n MoleculeSTM ipykernel --update-deps --force-reinstall'"
     ]
    }
   ],
   "source": [
    "num_tasks, task_mode = get_num_task_and_type(args.dataset)\n",
    "dataset_folder = os.path.join(args.dataspace_path, \"MoleculeNet_data\", args.dataset)\n",
    "\n",
    "dataset = MoleculeNetGraphDataset(dataset_folder, args.dataset)\n",
    "dataloader_class = pyg_DataLoader\n",
    "use_pyg_dataset = True\n",
    "\n",
    "smiles_list = pd.read_csv(\n",
    "    dataset_folder + \"/processed/smiles.csv\", header=None)[0].tolist()\n",
    "train_dataset, valid_dataset, test_dataset = scaffold_split(\n",
    "    dataset, smiles_list, null_value=0, frac_train=0.8,\n",
    "    frac_valid=0.1, frac_test=0.1, pyg_dataset=use_pyg_dataset)\n",
    "\n",
    "\n",
    "train_loader = dataloader_class(train_dataset, batch_size=args.batch_size, shuffle=True, num_workers=args.num_workers)\n",
    "val_loader = dataloader_class(valid_dataset, batch_size=args.batch_size, shuffle=False, num_workers=args.num_workers)\n",
    "test_loader = dataloader_class(test_dataset, batch_size=args.batch_size, shuffle=False, num_workers=args.num_workers)"
   ]
  },
  {
   "cell_type": "markdown",
   "id": "4e191498",
   "metadata": {},
   "source": [
    "## Initialize and Load Model"
   ]
  },
  {
   "cell_type": "code",
   "execution_count": null,
   "id": "4b2363c6",
   "metadata": {
    "scrolled": false
   },
   "outputs": [
    {
     "name": "stdout",
     "output_type": "stream",
     "text": [
      "Start from pretrained model (MoleculeSTM) in demo_checkpoints_Graph/molecule_model.pth.\n"
     ]
    }
   ],
   "source": [
    "molecule_node_model = GNN(\n",
    "    num_layer=args.num_layer, emb_dim=args.gnn_emb_dim,\n",
    "    JK=args.JK, drop_ratio=args.dropout_ratio,\n",
    "    gnn_type=args.gnn_type)\n",
    "model = GNN_graphpred(\n",
    "    num_layer=args.num_layer, emb_dim=args.gnn_emb_dim, JK=args.JK, graph_pooling=args.graph_pooling,\n",
    "    num_tasks=1, molecule_node_model=molecule_node_model) \n",
    "molecule_dim = args.gnn_emb_dim\n",
    "\n",
    "if \"GraphMVP\" in args.input_model_path:\n",
    "    print(\"Start from pretrained model (GraphMVP) in {}.\".format(args.input_model_path))\n",
    "    model.from_pretrained(args.input_model_path)\n",
    "else:\n",
    "    print(\"Start from pretrained model (MoleculeSTM) in {}.\".format(args.input_model_path))\n",
    "    state_dict = torch.load(args.input_model_path, map_location='cpu')\n",
    "    model.load_state_dict(state_dict)\n",
    "\n",
    "\n",
    "model = model.to(device)\n",
    "linear_model = nn.Linear(molecule_dim, num_tasks).to(device)\n",
    "\n",
    "# Rewrite the seed by MegaMolBART\n",
    "torch.manual_seed(args.seed)\n",
    "np.random.seed(args.seed)\n",
    "if torch.cuda.is_available():\n",
    "    torch.cuda.manual_seed_all(args.seed)"
   ]
  },
  {
   "cell_type": "markdown",
   "id": "24ae1f5c",
   "metadata": {},
   "source": [
    "## Setup Optimizer"
   ]
  },
  {
   "cell_type": "code",
   "execution_count": null,
   "id": "05837d7b",
   "metadata": {},
   "outputs": [],
   "source": [
    "if args.training_mode == \"fine_tuning\":\n",
    "    model_param_group = [\n",
    "        {\"params\": model.parameters()},\n",
    "        {\"params\": linear_model.parameters(), 'lr': args.lr * args.lr_scale}\n",
    "    ]\n",
    "else:\n",
    "    model_param_group = [\n",
    "        {\"params\": linear_model.parameters(), 'lr': args.lr * args.lr_scale}\n",
    "    ]\n",
    "optimizer = optim.Adam(model_param_group, lr=args.lr, weight_decay=args.weight_decay)"
   ]
  },
  {
   "cell_type": "markdown",
   "id": "b26e511d",
   "metadata": {},
   "source": [
    "## Define Support Functions"
   ]
  },
  {
   "cell_type": "code",
   "execution_count": null,
   "id": "6d471e8d",
   "metadata": {},
   "outputs": [],
   "source": [
    "def train_classification(model, device, loader, optimizer):\n",
    "    if args.training_mode == \"fine_tuning\":\n",
    "        model.train()\n",
    "    else:\n",
    "        model.eval()\n",
    "    linear_model.train()\n",
    "    total_loss = 0\n",
    "\n",
    "    if args.verbose:\n",
    "        L = tqdm(loader)\n",
    "    else:\n",
    "        L = loader\n",
    "    for step, batch in enumerate(L):\n",
    "        if args.molecule_type == \"MegaMolBART\":\n",
    "            SMILES_list, y = batch\n",
    "            SMILES_list = list(SMILES_list)\n",
    "            molecule_repr = get_molecule_repr_MoleculeSTM(\n",
    "                SMILES_list, mol2latent=None,\n",
    "                molecule_type=\"MegaMolBART\", MegaMolBART_wrapper=MegaMolBART_wrapper)\n",
    "            pred = linear_model(molecule_repr)\n",
    "            pred = pred.float()\n",
    "            y = y.to(device).float()\n",
    "        else:\n",
    "            batch = batch.to(device)\n",
    "            molecule_repr = get_molecule_repr_MoleculeSTM(\n",
    "                batch, mol2latent=None,\n",
    "                molecule_type=\"Graph\", molecule_model=model)\n",
    "            pred = linear_model(molecule_repr)\n",
    "            pred = pred.float()\n",
    "            y = batch.y.view(pred.shape).to(device).float()\n",
    "\n",
    "        is_valid = y ** 2 > 0\n",
    "        loss_mat = criterion(pred, (y + 1) / 2)\n",
    "        loss_mat = torch.where(\n",
    "            is_valid, loss_mat,\n",
    "            torch.zeros(loss_mat.shape).to(device).to(loss_mat.dtype))\n",
    "\n",
    "        optimizer.zero_grad()\n",
    "        loss = torch.sum(loss_mat) / torch.sum(is_valid)\n",
    "        loss.backward()\n",
    "        optimizer.step()\n",
    "        total_loss += loss.detach().item()\n",
    "\n",
    "    return total_loss / len(loader)\n",
    "\n",
    "\n",
    "@torch.no_grad()\n",
    "def eval_classification(model, device, loader):\n",
    "    model.eval()\n",
    "    linear_model.eval()\n",
    "    y_true, y_scores = [], []\n",
    "\n",
    "    if args.verbose:\n",
    "        L = tqdm(loader)\n",
    "    else:\n",
    "        L = loader\n",
    "    for step, batch in enumerate(L):\n",
    "        if args.molecule_type == \"MegaMolBART\":\n",
    "            SMILES_list, y = batch\n",
    "            SMILES_list = list(SMILES_list)\n",
    "            molecule_repr = get_molecule_repr_MoleculeSTM(\n",
    "                SMILES_list, mol2latent=None,\n",
    "                molecule_type=\"MegaMolBART\", MegaMolBART_wrapper=MegaMolBART_wrapper)\n",
    "            pred = linear_model(molecule_repr)\n",
    "            pred = pred.float()\n",
    "            y = y.to(device).float()\n",
    "        else:\n",
    "            batch = batch.to(device)\n",
    "            molecule_repr = get_molecule_repr_MoleculeSTM(\n",
    "                batch, mol2latent=None,\n",
    "                molecule_type=\"Graph\", molecule_model=model)\n",
    "            pred = linear_model(molecule_repr)\n",
    "            pred = pred.float()\n",
    "            y = batch.y.view(pred.shape).to(device).float()\n",
    "\n",
    "        y_true.append(y)\n",
    "        y_scores.append(pred)\n",
    "\n",
    "    y_true = torch.cat(y_true, dim=0).cpu().numpy()\n",
    "    y_scores = torch.cat(y_scores, dim=0).cpu().numpy()\n",
    "\n",
    "    roc_list = []\n",
    "    for i in range(y_true.shape[1]):\n",
    "        # AUC is only defined when there is at least one positive data.\n",
    "        if np.sum(y_true[:, i] == 1) > 0 and np.sum(y_true[:, i] == -1) > 0:\n",
    "            is_valid = y_true[:, i] ** 2 > 0\n",
    "            roc_list.append(roc_auc_score((y_true[is_valid, i] + 1) / 2, y_scores[is_valid, i]))\n",
    "        else:\n",
    "            print(\"{} is invalid\".format(i))\n",
    "\n",
    "    if len(roc_list) < y_true.shape[1]:\n",
    "        print(len(roc_list))\n",
    "        print(\"Some target is missing!\")\n",
    "        print(\"Missing ratio: %f\" %(1 - float(len(roc_list)) / y_true.shape[1]))\n",
    "\n",
    "    return sum(roc_list) / len(roc_list), 0, y_true, y_scores"
   ]
  },
  {
   "cell_type": "markdown",
   "id": "fa37ee43",
   "metadata": {},
   "source": [
    "## Start Training"
   ]
  },
  {
   "cell_type": "code",
   "execution_count": null,
   "id": "7408a546",
   "metadata": {},
   "outputs": [
    {
     "name": "stderr",
     "output_type": "stream",
     "text": [
      "100%|██████████████████████████████████████████████████████████████████████████████████████████████████████████| 38/38 [00:01<00:00, 19.51it/s]\n"
     ]
    },
    {
     "name": "stdout",
     "output_type": "stream",
     "text": [
      "Epoch: 1\n",
      "Loss: 0.6760892538647902\n"
     ]
    },
    {
     "name": "stderr",
     "output_type": "stream",
     "text": [
      "100%|████████████████████████████████████████████████████████████████████████████████████████████████████████████| 5/5 [00:00<00:00,  5.19it/s]\n",
      "100%|████████████████████████████████████████████████████████████████████████████████████████████████████████████| 5/5 [00:00<00:00,  5.39it/s]\n"
     ]
    },
    {
     "name": "stdout",
     "output_type": "stream",
     "text": [
      "train: 0.000000\tval: 0.642125\ttest: 0.663189\n",
      "\n"
     ]
    },
    {
     "name": "stderr",
     "output_type": "stream",
     "text": [
      "100%|██████████████████████████████████████████████████████████████████████████████████████████████████████████| 38/38 [00:01<00:00, 23.04it/s]\n"
     ]
    },
    {
     "name": "stdout",
     "output_type": "stream",
     "text": [
      "Epoch: 2\n",
      "Loss: 0.6383239313175804\n"
     ]
    },
    {
     "name": "stderr",
     "output_type": "stream",
     "text": [
      "100%|████████████████████████████████████████████████████████████████████████████████████████████████████████████| 5/5 [00:00<00:00,  5.31it/s]\n",
      "100%|████████████████████████████████████████████████████████████████████████████████████████████████████████████| 5/5 [00:00<00:00,  5.58it/s]\n"
     ]
    },
    {
     "name": "stdout",
     "output_type": "stream",
     "text": [
      "train: 0.000000\tval: 0.676190\ttest: 0.720049\n",
      "\n"
     ]
    },
    {
     "name": "stderr",
     "output_type": "stream",
     "text": [
      "100%|██████████████████████████████████████████████████████████████████████████████████████████████████████████| 38/38 [00:01<00:00, 22.44it/s]\n"
     ]
    },
    {
     "name": "stdout",
     "output_type": "stream",
     "text": [
      "Epoch: 3\n",
      "Loss: 0.6019486816305863\n"
     ]
    },
    {
     "name": "stderr",
     "output_type": "stream",
     "text": [
      "100%|████████████████████████████████████████████████████████████████████████████████████████████████████████████| 5/5 [00:00<00:00,  5.11it/s]\n",
      "100%|████████████████████████████████████████████████████████████████████████████████████████████████████████████| 5/5 [00:00<00:00,  5.19it/s]\n"
     ]
    },
    {
     "name": "stdout",
     "output_type": "stream",
     "text": [
      "train: 0.000000\tval: 0.683516\ttest: 0.752043\n",
      "\n"
     ]
    },
    {
     "name": "stderr",
     "output_type": "stream",
     "text": [
      "100%|██████████████████████████████████████████████████████████████████████████████████████████████████████████| 38/38 [00:01<00:00, 23.23it/s]\n"
     ]
    },
    {
     "name": "stdout",
     "output_type": "stream",
     "text": [
      "Epoch: 4\n",
      "Loss: 0.5672228501031273\n"
     ]
    },
    {
     "name": "stderr",
     "output_type": "stream",
     "text": [
      "100%|████████████████████████████████████████████████████████████████████████████████████████████████████████████| 5/5 [00:00<00:00,  5.20it/s]\n",
      "100%|████████████████████████████████████████████████████████████████████████████████████████████████████████████| 5/5 [00:01<00:00,  5.00it/s]\n"
     ]
    },
    {
     "name": "stdout",
     "output_type": "stream",
     "text": [
      "train: 0.000000\tval: 0.686447\ttest: 0.774474\n",
      "\n"
     ]
    },
    {
     "name": "stderr",
     "output_type": "stream",
     "text": [
      "100%|██████████████████████████████████████████████████████████████████████████████████████████████████████████| 38/38 [00:01<00:00, 23.79it/s]\n"
     ]
    },
    {
     "name": "stdout",
     "output_type": "stream",
     "text": [
      "Epoch: 5\n",
      "Loss: 0.5250759069856844\n"
     ]
    },
    {
     "name": "stderr",
     "output_type": "stream",
     "text": [
      "100%|████████████████████████████████████████████████████████████████████████████████████████████████████████████| 5/5 [00:00<00:00,  7.85it/s]\n",
      "100%|████████████████████████████████████████████████████████████████████████████████████████████████████████████| 5/5 [00:00<00:00,  5.60it/s]"
     ]
    },
    {
     "name": "stdout",
     "output_type": "stream",
     "text": [
      "train: 0.000000\tval: 0.689377\ttest: 0.788211\n",
      "\n",
      "best train: 0.000000\tval: 0.642125\ttest: 0.663189\n"
     ]
    },
    {
     "name": "stderr",
     "output_type": "stream",
     "text": [
      "\n"
     ]
    }
   ],
   "source": [
    "train_func = train_classification\n",
    "eval_func = eval_classification\n",
    "\n",
    "train_roc_list, val_roc_list, test_roc_list = [], [], []\n",
    "train_acc_list, val_acc_list, test_acc_list = [], [], []\n",
    "best_val_roc, best_val_idx = -1, 0\n",
    "criterion = nn.BCEWithLogitsLoss(reduction=\"none\")\n",
    "\n",
    "for epoch in range(1, args.epochs + 1):\n",
    "    loss_acc = train_func(model, device, train_loader, optimizer)\n",
    "    print(\"Epoch: {}\\nLoss: {}\".format(epoch, loss_acc))\n",
    "\n",
    "    if args.eval_train:\n",
    "        train_roc, train_acc, train_target, train_pred = eval_func(model, device, train_loader)\n",
    "    else:\n",
    "        train_roc = train_acc = 0\n",
    "    val_roc, val_acc, val_target, val_pred = eval_func(model, device, val_loader)\n",
    "    test_roc, test_acc, test_target, test_pred = eval_func(model, device, test_loader)\n",
    "\n",
    "    train_roc_list.append(train_roc)\n",
    "    train_acc_list.append(train_acc)\n",
    "    val_roc_list.append(val_roc)\n",
    "    val_acc_list.append(val_acc)\n",
    "    test_roc_list.append(test_roc)\n",
    "    test_acc_list.append(test_acc)\n",
    "    print(\"train: {:.6f}\\tval: {:.6f}\\ttest: {:.6f}\".format(train_roc, val_roc, test_roc))\n",
    "    print()\n",
    "\n",
    "print(\"best train: {:.6f}\\tval: {:.6f}\\ttest: {:.6f}\".format(train_roc_list[best_val_idx], val_roc_list[best_val_idx], test_roc_list[best_val_idx]))"
   ]
  }
 ],
 "metadata": {
  "kernelspec": {
   "display_name": "Python 3 (ipykernel)",
   "language": "python",
   "name": "python3"
  },
  "language_info": {
   "codemirror_mode": {
    "name": "ipython",
    "version": 3
   },
   "file_extension": ".py",
   "mimetype": "text/x-python",
   "name": "python",
   "nbconvert_exporter": "python",
   "pygments_lexer": "ipython3",
   "version": "3.7.undefined"
  }
 },
 "nbformat": 4,
 "nbformat_minor": 5
}
